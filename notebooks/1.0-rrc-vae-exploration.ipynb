{
 "cells": [
  {
   "cell_type": "code",
   "execution_count": 310,
   "metadata": {},
   "outputs": [],
   "source": [
    "import torch\n",
    "import torch.utils.data\n",
    "from torch import nn, optim\n",
    "from torch.nn import functional as F\n",
    "from torchvision import datasets, transforms\n",
    "from torchvision.utils import save_image\n",
    "\n",
    "import sys\n",
    "import numpy as np\n",
    "\n",
    "import matplotlib.pyplot as plt\n",
    "%matplotlib inline"
   ]
  },
  {
   "cell_type": "code",
   "execution_count": 311,
   "metadata": {},
   "outputs": [],
   "source": [
    "np.random.seed(1)\n",
    "\n",
    "T = 40\n",
    "L = 44 # length of time-series\n",
    "N = 600 # dataset size\n",
    "\n",
    "x = np.empty((N, L), 'int64')\n",
    "x[:] = np.array(range(L)) + np.random.randint(-4 * T, 4 * T, N).reshape(N, 1)\n",
    "data = np.sin((x.T / ((np.random.rand(N)**2)*T + 1)).T).astype('float64')"
   ]
  },
  {
   "cell_type": "code",
   "execution_count": 312,
   "metadata": {},
   "outputs": [
    {
     "data": {
      "text/plain": [
       "(2646, 44)"
      ]
     },
     "execution_count": 312,
     "metadata": {},
     "output_type": "execute_result"
    }
   ],
   "source": [
    "data_series.shape"
   ]
  },
  {
   "cell_type": "code",
   "execution_count": 325,
   "metadata": {},
   "outputs": [],
   "source": [
    "data_series = data_dicts.get('demand_out_encoded_stage_3')\\\n",
    ".set_index(['item_code', 'rpd','future_flag'])\\\n",
    ".sort_index().unstack(\"rpd\", fill_value=0).fillna(0).values\n",
    "\n",
    "mu, sigma = 0, 0.1 \n",
    "#[:600]\n",
    "#data = np.log1p(\n",
    "data=    data_series[:600][:] \n",
    "#+ np.abs(np.random.normal(mu, sigma, size=data_series.shape))"
   ]
  },
  {
   "cell_type": "code",
   "execution_count": 326,
   "metadata": {},
   "outputs": [
    {
     "data": {
      "text/plain": [
       "(600, 44)"
      ]
     },
     "execution_count": 326,
     "metadata": {},
     "output_type": "execute_result"
    }
   ],
   "source": [
    "data.shape"
   ]
  },
  {
   "cell_type": "code",
   "execution_count": 327,
   "metadata": {},
   "outputs": [
    {
     "data": {
      "image/png": "[encoded data removed]",
      "text/plain": [
       "<Figure size 360x72 with 1 Axes>"
      ]
     },
     "metadata": {},
     "output_type": "display_data"
    },
    {
     "data": {
      "image/png": "[encoded data removed]",
      "text/plain": [
       "<Figure size 360x72 with 1 Axes>"
      ]
     },
     "metadata": {},
     "output_type": "display_data"
    },
    {
     "data": {
      "image/png": "[encoded data removed]",
      "text/plain": [
       "<Figure size 360x72 with 1 Axes>"
      ]
     },
     "metadata": {},
     "output_type": "display_data"
    },
    {
     "data": {
      "image/png": "[encoded data removed]",
      "text/plain": [
       "<Figure size 360x72 with 1 Axes>"
      ]
     },
     "metadata": {},
     "output_type": "display_data"
    },
    {
     "data": {
      "image/png": "[encoded data removed]",
      "text/plain": [
       "<Figure size 360x72 with 1 Axes>"
      ]
     },
     "metadata": {},
     "output_type": "display_data"
    }
   ],
   "source": [
    "# here we plot some generated time-series\n",
    "for i in range(5):\n",
    "    plt.figure(figsize=(5, 1))\n",
    "    plt.plot(data[i])"
   ]
  },
  {
   "cell_type": "code",
   "execution_count": 328,
   "metadata": {},
   "outputs": [],
   "source": [
    "device = torch.device(\"cpu\")\n",
    "batch_size = 64\n",
    "log_interval = N/600\n",
    "data_tensor = torch.stack([torch.Tensor(x) for x in data])"
   ]
  },
  {
   "cell_type": "code",
   "execution_count": 329,
   "metadata": {},
   "outputs": [
    {
     "data": {
      "text/plain": [
       "torch.Size([600, 44])"
      ]
     },
     "execution_count": 329,
     "metadata": {},
     "output_type": "execute_result"
    }
   ],
   "source": [
    "data_tensor.shape"
   ]
  },
  {
   "cell_type": "code",
   "execution_count": 330,
   "metadata": {},
   "outputs": [],
   "source": [
    "ts_dataset_train = torch.utils.data.TensorDataset(data_tensor[:int(N*5/6)])\n",
    "ts_dataset_test = torch.utils.data.TensorDataset(data_tensor[int(N*5/6):])\n",
    "\n",
    "train_loader = torch.utils.data.DataLoader(ts_dataset_train, batch_size=batch_size, shuffle=True)\n",
    "test_loader = torch.utils.data.DataLoader(ts_dataset_test, batch_size=batch_size, shuffle=True)"
   ]
  },
  {
   "cell_type": "code",
   "execution_count": 337,
   "metadata": {},
   "outputs": [],
   "source": [
    "# VAE model\n",
    "\n",
    "class VAE(nn.Module):\n",
    "    def __init__(self, K=12, P=5, mp=3, hidden_lsz=2, channels=10, lstm_sz=10):\n",
    "        super(VAE, self).__init__()\n",
    "        self.conv1 = nn.Conv1d(in_channels=1, out_channels=channels, kernel_size=K, padding=P)\n",
    "        self.mp1 = nn.MaxPool1d(kernel_size=mp, stride=mp, return_indices=True)\n",
    "        conv_sz = self.conv1.out_channels * ((L + 1 - (K - 2*P)) // mp)\n",
    "        self.fc21 = nn.Linear(conv_sz, hidden_lsz)\n",
    "        self.fc22 = nn.Linear(conv_sz, hidden_lsz)\n",
    "        self.fc3 = nn.Linear(hidden_lsz, conv_sz)\n",
    "        self.ump4 = nn.MaxUnpool1d(kernel_size=mp, stride=mp)\n",
    "        self.deconv4 = nn.ConvTranspose1d(in_channels=channels, out_channels=1, kernel_size=K, padding=P)\n",
    "        self.polish = nn.LSTM(1, lstm_sz, num_layers=1)\n",
    "        self.fc4 = nn.Linear(lstm_sz, 1)\n",
    "\n",
    "    def encode(self, x):\n",
    "        h1, self.mp1_inds = self.mp1(F.relu(self.conv1(x.unsqueeze(1))))\n",
    "        h1 = h1.view(h1.shape[0], -1)\n",
    "        return self.fc21(h1), self.fc22(h1)\n",
    "\n",
    "    def reparameterize(self, mu, logvar):\n",
    "        std = torch.exp(0.5*logvar) + 1e-5\n",
    "        eps = torch.randn_like(std)\n",
    "        return eps.mul(std).add_(mu)\n",
    "\n",
    "    def decode(self, z):\n",
    "        h3 = self.ump4(F.relu(self.fc3(z).unsqueeze(1).view(z.shape[0], self.deconv4.in_channels, -1)),\n",
    "                       self.mp1_inds)\n",
    "        h4 = F.relu(self.deconv4(h3))\n",
    "        h4 = h4.transpose(1, 0).transpose(2, 0)\n",
    "        h5, _ = self.polish(h4)\n",
    "        h5 = F.relu(h5)\n",
    "        return self.fc4(h5).transpose(1, 0).squeeze()\n",
    "\n",
    "    def forward(self, x, variational_sample=1):\n",
    "        #print(x.shape)\n",
    "        mu, logvar = self.encode(x.view(-1, L))\n",
    "        for i in range(variational_sample):\n",
    "            z = self.reparameterize(mu, logvar)\n",
    "            recon_x = self.decode(z)\n",
    "            if i == 0:\n",
    "                reconstruction = torch.zeros_like(recon_x)\n",
    "            reconstruction += recon_x\n",
    "        reconstruction /= variational_sample\n",
    "        return reconstruction, mu, logvar"
   ]
  },
  {
   "cell_type": "code",
   "execution_count": 338,
   "metadata": {},
   "outputs": [],
   "source": [
    "def loss_component_KLD(mu, logvar):\n",
    "    # see Appendix B from VAE paper:\n",
    "    # Kingma and Welling. Auto-Encoding Variational Bayes. ICLR, 2014\n",
    "    # https://arxiv.org/abs/1312.6114\n",
    "    # 0.5 * sum(1 + log(sigma^2) - mu^2 - sigma^2)\n",
    "    KLD = -0.5 * torch.sum(1 + logvar - mu.pow(2) - logvar.exp())\n",
    "\n",
    "    return KLD\n",
    "\n",
    "def loss_function(recon_x, x, mu, logvar):\n",
    "    MSE = nn.MSELoss(reduction='sum')(recon_x, x.view(-1, x.shape[1]))\n",
    "\n",
    "    return MSE + loss_component_KLD(mu, logvar)\n",
    "\n",
    "def train(epoch, max_batches=2):\n",
    "    model.train()\n",
    "    train_loss = 0\n",
    "    for batch_idx, data in enumerate(train_loader):\n",
    "        data = data[0].to(device)\n",
    "        #print('data[0].to(device): {}'.format(data))\n",
    "        optimizer.zero_grad()\n",
    "        recon_batch, mu, logvar = model(data)\n",
    "        #print('recon_batch: {}'.format(recon_batch))\n",
    "        #print('data: {}'.format(data[:, :recon_batch.shape[1]]))\n",
    "        loss = loss_function(recon_batch, data[:, :recon_batch.shape[1]], mu, logvar)\n",
    "        loss.backward()\n",
    "        #print('loss: {}'.format(loss))\n",
    "        #sys.exit(0)\n",
    "        train_loss += loss.item()\n",
    "        optimizer.step()\n",
    "        if batch_idx % log_interval == 0:\n",
    "            if batch_idx / log_interval >= max_batches:\n",
    "                break\n",
    "    \n",
    "    train_loss /= ((batch_idx + 1)*batch_size)\n",
    "    return train_loss\n",
    "\n",
    "def save_ts_image_overlap(ts_tensor_1, ts_tensor_2, file_path, nrow=1, h=1, w=3, off_axis=False):\n",
    "    ncol = int(np.ceil(len(ts_tensor_1)/float(nrow)))\n",
    "    plt.figure(figsize=(w*nrow, h*ncol))\n",
    "    for i in range(len(ts_tensor_1)):\n",
    "        plt.subplot(ncol, nrow, i + 1)\n",
    "        plt.plot(ts_tensor_1[i].data.numpy())\n",
    "        plt.plot(ts_tensor_2[i].data.numpy())\n",
    "        if off_axis:\n",
    "            plt.xticks([])\n",
    "            plt.yticks([])\n",
    "    plt.tight_layout()\n",
    "    plt.savefig(file_path, bbox_inches='tight', dpi=100)\n",
    "    plt.close()\n",
    "\n",
    "def test(epoch, output_path, recon_samples=1):\n",
    "    model.eval()\n",
    "    test_loss = 0\n",
    "    with torch.no_grad():\n",
    "        for i, data in enumerate(test_loader):\n",
    "            data = data[0].to(device)\n",
    "            \n",
    "            for r in range(recon_samples):\n",
    "                recon_batch_part, mu, logvar = model(data)\n",
    "                if r == 0:\n",
    "                    recon_batch = recon_batch_part\n",
    "                else:\n",
    "                    recon_batch += recon_batch_part\n",
    "            recon_batch /= recon_samples\n",
    "            \n",
    "            test_loss += loss_function(recon_batch, data[:, :recon_batch.shape[1]], mu, logvar).item()\n",
    "            if i == 0:\n",
    "                n = min(data.size(0), 8)\n",
    "                comparison = torch.cat([data[:n, :recon_batch.shape[1]],\n",
    "                                      recon_batch[:n]])\n",
    "                save_ts_image_overlap(data[:n, :recon_batch.shape[1]], \n",
    "                                      recon_batch[:n],\n",
    "                                      output_path + str(epoch) + '.png', \n",
    "                                      nrow=n)\n",
    "\n",
    "    test_loss /= len(test_loader.dataset)\n",
    "    print('====> Test set loss: {:.4f}'.format(test_loss))\n",
    "    return test_loss"
   ]
  },
  {
   "cell_type": "code",
   "execution_count": 339,
   "metadata": {},
   "outputs": [
    {
     "data": {
      "text/plain": [
       "(600, 44)"
      ]
     },
     "execution_count": 339,
     "metadata": {},
     "output_type": "execute_result"
    }
   ],
   "source": [
    "data.shape"
   ]
  },
  {
   "cell_type": "code",
   "execution_count": 340,
   "metadata": {},
   "outputs": [
    {
     "name": "stdout",
     "output_type": "stream",
     "text": [
      "number of model parameters: 2872\n"
     ]
    }
   ],
   "source": [
    "latent_dim = 5\n",
    "output_path = '../output/'\n",
    "model = VAE(K=36, P=17, hidden_lsz=latent_dim, channels=10, mp=4, lstm_sz=10).to(device)\n",
    "optimizer = optim.Adam(model.parameters(), lr=1e-3)\n",
    "print('number of model parameters:', sum(p.numel() for p in model.parameters() if p.requires_grad))\n",
    "epochs = 200"
   ]
  },
  {
   "cell_type": "code",
   "execution_count": 341,
   "metadata": {},
   "outputs": [],
   "source": [
    "#ts_dataset_test[:10].shape"
   ]
  },
  {
   "cell_type": "code",
   "execution_count": 342,
   "metadata": {
    "scrolled": true
   },
   "outputs": [
    {
     "name": "stdout",
     "output_type": "stream",
     "text": [
      "====> Test set loss: nan\n",
      "====> Test set loss: nan\n",
      "====> Test set loss: nan\n",
      "====> Test set loss: nan\n",
      "====> Test set loss: nan\n",
      "====> Test set loss: nan\n",
      "====> Test set loss: nan\n",
      "====> Test set loss: nan\n",
      "====> Test set loss: nan\n",
      "====> Test set loss: nan\n",
      "====> Test set loss: nan\n",
      "====> Test set loss: nan\n",
      "====> Test set loss: nan\n",
      "====> Test set loss: nan\n",
      "====> Test set loss: nan\n",
      "====> Test set loss: nan\n",
      "====> Test set loss: nan\n",
      "====> Test set loss: nan\n",
      "====> Test set loss: nan\n",
      "====> Test set loss: nan\n"
     ]
    }
   ],
   "source": [
    "train_losses = []\n",
    "test_losses = []\n",
    "for epoch in range(1, epochs + 1):\n",
    "    t = train(epoch, max_batches=30)\n",
    "    if epoch % 10 == 0:\n",
    "        train_losses.append(t)\n",
    "        test_losses.append(test(epoch, output_path))"
   ]
  },
  {
   "cell_type": "code",
   "execution_count": 36,
   "metadata": {},
   "outputs": [],
   "source": [
    "from adase.utils.pandas import read_df\n",
    "from adase.utils.files import (directory_path,\n",
    "                                get_raw_file,\n",
    "                                get_all_files)\n",
    "from adase.utils.pandas import write_df, read_df"
   ]
  },
  {
   "cell_type": "code",
   "execution_count": null,
   "metadata": {},
   "outputs": [],
   "source": []
  },
  {
   "cell_type": "code",
   "execution_count": 48,
   "metadata": {},
   "outputs": [],
   "source": [
    "import yaml\n",
    "from typing import Dict\n",
    "from tqdm import tqdm"
   ]
  },
  {
   "cell_type": "code",
   "execution_count": 55,
   "metadata": {},
   "outputs": [],
   "source": [
    "def config(path) -> Dict:\n",
    "    with open(\"{}config.yml\".format(path), 'r') as ymlfile:\n",
    "            cfg = yaml.load(ymlfile)\n",
    "    return cfg\n",
    "\n",
    "def download_dataset(cfg:Dict):\n",
    "    \n",
    "    raw_path = cfg.get('dataset').get('path_read_input')\n",
    "    for file in tqdm(cfg.get('makedataset').get('files')):\n",
    "        get_raw_file(raw_path, file)\n",
    "\n",
    "def load_dataset(cfg:Dict):\n",
    "    \n",
    "    raw_path = cfg.get('dataset').get('path_read_input')\n",
    "    \n",
    "    dict_data: Dict = dict()\n",
    "\n",
    "    for key, val in read_df(get_all_files(raw_path)).items():\n",
    "\n",
    "        df_tmp = val.rename(columns={\n",
    "                    'item': 'item_code',\n",
    "                    'quantity_ecd': 'quantity',\n",
    "                    'parent_item': 'parent_item_code',\n",
    "                    'parent_quantity_ecd': 'parent_quantity'\n",
    "                })\n",
    "\n",
    "        if 'rpd' in df_tmp:\n",
    "            first_element = sorted(df_tmp['rpd'].unique())[0]\n",
    "            if first_element/1 != 1:\n",
    "                df_tmp['rpd'] = df_tmp['rpd'] - (first_element-1)\n",
    "\n",
    "        dict_data.update({key: df_tmp})\n",
    "                \n",
    "    return dict_data"
   ]
  },
  {
   "cell_type": "code",
   "execution_count": 60,
   "metadata": {},
   "outputs": [],
   "source": [
    "cfg = config('../')"
   ]
  },
  {
   "cell_type": "code",
   "execution_count": 61,
   "metadata": {},
   "outputs": [
    {
     "name": "stderr",
     "output_type": "stream",
     "text": [
      "\n",
      "\n",
      "  0%|          | 0/5 [00:00<?, ?it/s]\u001b[A\u001b[A\n",
      "\n",
      " 20%|██        | 1/5 [00:02<00:11,  2.78s/it]\u001b[A\u001b[A\n",
      "\n",
      " 40%|████      | 2/5 [00:04<00:07,  2.51s/it]\u001b[A\u001b[A\n",
      "\n",
      " 60%|██████    | 3/5 [00:06<00:04,  2.18s/it]\u001b[A\u001b[A\n",
      "\n",
      " 80%|████████  | 4/5 [00:07<00:02,  2.09s/it]\u001b[A\u001b[A\n",
      "\n",
      "100%|██████████| 5/5 [00:09<00:00,  1.90s/it]\u001b[A\u001b[A\n",
      "\n",
      "\u001b[A\u001b[A"
     ]
    }
   ],
   "source": [
    "download_dataset(cfg)"
   ]
  },
  {
   "cell_type": "code",
   "execution_count": 62,
   "metadata": {},
   "outputs": [
    {
     "name": "stderr",
     "output_type": "stream",
     "text": [
      "\n",
      "\n",
      "  0%|          | 0/9 [00:00<?, ?it/s]\u001b[A\u001b[A\n",
      "\n",
      " 11%|█         | 1/9 [00:00<00:00,  8.13it/s]\u001b[A\u001b[A\n",
      "\n",
      " 22%|██▏       | 2/9 [00:00<00:00,  8.27it/s]\u001b[A\u001b[A\n",
      "\n",
      " 44%|████▍     | 4/9 [00:00<00:00,  9.15it/s]\u001b[A\u001b[A\n",
      "\n",
      "100%|██████████| 9/9 [00:00<00:00, 21.48it/s]\u001b[A\u001b[A"
     ]
    }
   ],
   "source": [
    "data_dicts = load_dataset(cfg)"
   ]
  },
  {
   "cell_type": "code",
   "execution_count": 105,
   "metadata": {},
   "outputs": [
    {
     "data": {
      "image/png": "[encoded data removed]",
      "text/plain": [
       "<Figure size 360x72 with 1 Axes>"
      ]
     },
     "metadata": {},
     "output_type": "display_data"
    },
    {
     "data": {
      "image/png": "[encoded data removed]",
      "text/plain": [
       "<Figure size 360x72 with 1 Axes>"
      ]
     },
     "metadata": {},
     "output_type": "display_data"
    },
    {
     "data": {
      "image/png": "[encoded data removed]",
      "text/plain": [
       "<Figure size 360x72 with 1 Axes>"
      ]
     },
     "metadata": {},
     "output_type": "display_data"
    },
    {
     "data": {
      "image/png": "[encoded data removed]",
      "text/plain": [
       "<Figure size 360x72 with 1 Axes>"
      ]
     },
     "metadata": {},
     "output_type": "display_data"
    },
    {
     "data": {
      "image/png": "[encoded data removed]",
      "text/plain": [
       "<Figure size 360x72 with 1 Axes>"
      ]
     },
     "metadata": {},
     "output_type": "display_data"
    }
   ],
   "source": [
    "for i in range(5):\n",
    "    plt.figure(figsize=(5, 1))\n",
    "    plt.plot(data_series[i])"
   ]
  },
  {
   "cell_type": "code",
   "execution_count": 237,
   "metadata": {},
   "outputs": [
    {
     "data": {
      "text/plain": [
       "array([[0.19229032, 0.93463357, 0.65209052, ..., 1.32201534, 1.7018619 ,\n",
       "        0.17705785],\n",
       "       [1.0769572 , 1.6495827 , 0.49790167, ..., 1.06545367, 0.14886092,\n",
       "        0.54166419],\n",
       "       [2.38114885, 0.74221693, 1.54007318, ..., 0.2565196 , 0.14785126,\n",
       "        0.72733078],\n",
       "       ...,\n",
       "       [0.51466778, 1.3527649 , 1.89308277, ..., 3.02340574, 0.03174007,\n",
       "        0.7826774 ],\n",
       "       [0.6230535 , 3.87233196, 1.02462867, ..., 1.31004716, 0.93322474,\n",
       "        0.78002233],\n",
       "       [0.01482429, 0.67135503, 0.7037607 , ..., 1.05831067, 1.65570663,\n",
       "        1.48319125]])"
      ]
     },
     "execution_count": 237,
     "metadata": {},
     "output_type": "execute_result"
    }
   ],
   "source": []
  },
  {
   "cell_type": "code",
   "execution_count": 233,
   "metadata": {},
   "outputs": [
    {
     "data": {
      "text/plain": [
       "26400"
      ]
     },
     "execution_count": 233,
     "metadata": {},
     "output_type": "execute_result"
    }
   ],
   "source": [
    "data.size"
   ]
  },
  {
   "cell_type": "code",
   "execution_count": null,
   "metadata": {},
   "outputs": [],
   "source": []
  }
 ],
 "metadata": {
  "kernelspec": {
   "display_name": "Python 3",
   "language": "python",
   "name": "python3"
  },
  "language_info": {
   "codemirror_mode": {
    "name": "ipython",
    "version": 3
   },
   "file_extension": ".py",
   "mimetype": "text/x-python",
   "name": "python",
   "nbconvert_exporter": "python",
   "pygments_lexer": "ipython3",
   "version": "3.6.3"
  }
 },
 "nbformat": 4,
 "nbformat_minor": 2
}
